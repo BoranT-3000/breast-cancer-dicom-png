{
  "nbformat": 4,
  "nbformat_minor": 0,
  "metadata": {
    "colab": {
      "provenance": []
    },
    "kernelspec": {
      "name": "python3",
      "display_name": "Python 3"
    },
    "language_info": {
      "name": "python"
    }
  },
  "cells": [
    {
      "cell_type": "code",
      "source": [
        "!pip install -U pylibjpeg pylibjpeg-openjpeg pylibjpeg-libjpeg pydicom python-gdcm"
      ],
      "metadata": {
        "id": "U_Q6Nkivtvdw"
      },
      "execution_count": null,
      "outputs": []
    },
    {
      "cell_type": "code",
      "source": [
        "import pandas as pd # data processing, CSV file I/O (e.g. pd.read_csv)\n",
        "import numpy as np # for linear algebra\n",
        "import pydicom\n",
        "\n",
        "# For showing image on colab\n",
        "import matplotlib.pylab as plt\n",
        "import matplotlib.pyplot as plt\n",
        "import matplotlib.image as mpimg\n",
        "\n",
        "from tqdm.notebook import tqdm\n",
        "import glob\n",
        "\n",
        "import gdcm\n",
        "import seaborn as sns\n",
        "from joblib import Parallel, delayed\n",
        "\n",
        "import os # for doing directory operations \n",
        "import pydicom as dicom # for reading dicom files\n",
        "from PIL import ImageTk, Image\n",
        "import cv2 # for image pre-processing\n",
        "from google.colab.patches import cv2_imshow\n",
        "\n",
        "from skimage.transform import resize \n",
        "\n",
        "# For warnings\n",
        "import warnings\n",
        "warnings.filterwarnings(\"ignore\", category=DeprecationWarning)\n",
        "warnings.filterwarnings(\"ignore\", category=UserWarning)\n",
        "warnings.filterwarnings(\"ignore\", category=FutureWarning)"
      ],
      "metadata": {
        "id": "fQW4Tml5toPr"
      },
      "execution_count": null,
      "outputs": []
    },
    {
      "cell_type": "code",
      "source": [
        "from google.colab import drive\n",
        "drive.mount('/content/gdrive')"
      ],
      "metadata": {
        "id": "YmQ_W5E-tnDn"
      },
      "execution_count": null,
      "outputs": []
    },
    {
      "cell_type": "code",
      "source": [
        "train_images = glob.glob(\"/content/gdrive/MyDrive/Mammography/*/*.dcm\")\n",
        "print(len(train_images))"
      ],
      "metadata": {
        "id": "ktq47Q70tzVZ"
      },
      "execution_count": null,
      "outputs": []
    },
    {
      "cell_type": "code",
      "source": [
        "f = \"/content/gdrive/MyDrive/Mammography/822670188/RCC.dcm\"\n",
        "patient = f.split('/')[-2]\n",
        "image = f.split('/')[-1][:-4]\n",
        "\n",
        "dicom = pydicom.dcmread(f)\n",
        "img = dicom.pixel_array\n",
        "\n",
        "img = (img - img.min()) / (img.max() - img.min())\n",
        "\n",
        "if dicom.PhotometricInterpretation == \"MONOCHROME1\":\n",
        "    img = 1 - img\n",
        "    \n",
        "plt.figure(figsize=(15, 15))\n",
        "plt.imshow(img, cmap=\"gray\")\n",
        "plt.title(f\"{patient} {image}\")\n",
        "plt.show()"
      ],
      "metadata": {
        "id": "V7BnsZ_tt4vE"
      },
      "execution_count": null,
      "outputs": []
    },
    {
      "cell_type": "code",
      "execution_count": null,
      "metadata": {
        "id": "n44Wwrk8te49"
      },
      "outputs": [],
      "source": [
        "SAVE_FOLDER = \"/content/gdrive/MyDrive/new_mamo/\"\n",
        "SIZE = 512\n",
        "EXTENSION = \"png\"\n",
        "DEBUG = False\n",
        "\n",
        "INTERPOLATION = cv2.INTER_CUBIC\n",
        "#INTERPOLATION = cv2.INTER_NEAREST\n",
        "#INTERPOLATION = cv2.INTER_LINEAR\n",
        "#INTERPOLATION = cv2.INTER_AREA\n",
        "#INTERPOLATION = cv2.INTER_LANCZOS4\n",
        "\n",
        "os.makedirs(SAVE_FOLDER, exist_ok=True)"
      ]
    },
    {
      "cell_type": "code",
      "source": [
        "def process(f, size=512, save_folder=\"\", extension=\"png\"):\n",
        "    try:\n",
        "      patient = f.split('/')[-2]\n",
        "      image = f.split('/')[-1][:-4]\n",
        "\n",
        "      dicom = pydicom.dcmread(f)\n",
        "      img = dicom.pixel_array\n",
        "\n",
        "      img = (img - img.min()) / (img.max() - img.min())\n",
        "\n",
        "      if dicom.PhotometricInterpretation == \"MONOCHROME1\":\n",
        "          img = 1 - img\n",
        "\n",
        "      img = cv2.resize(img, (size, size), interpolation=INTERPOLATION)\n",
        "\n",
        "      cv2.imwrite(save_folder + f\"{patient}_{image}.{extension}\", (img * 255).astype(np.uint8))\n",
        "    except:\n",
        "      pass"
      ],
      "metadata": {
        "id": "iD_y7E-pthB6"
      },
      "execution_count": null,
      "outputs": []
    },
    {
      "cell_type": "code",
      "source": [
        "_ = Parallel(n_jobs=4)(\n",
        "    delayed(process)(uid, size=SIZE, save_folder=SAVE_FOLDER, extension=EXTENSION)\n",
        "    for uid in tqdm(train_images[:10] if DEBUG else train_images)\n",
        ")\n",
        "# https://www.kaggle.com/code/mikecho/rsna-breast-cancer-dicom-png-lanczos4"
      ],
      "metadata": {
        "id": "DoCo1ZQutjyn"
      },
      "execution_count": null,
      "outputs": []
    }
  ]
}